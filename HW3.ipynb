{
 "cells": [
  {
   "cell_type": "markdown",
   "metadata": {},
   "source": [
    "# HW3: (Regularized) Least square problem (65 pts)\n",
    "\n",
    "In this assignment, you will write your own code to solve (regularized) least square problems. The least square problem is fundamental problem in engineering and many real world problems can be written as a least square problem (recall linear regression problem).\n",
    "\n",
    "The least square problem is $$\\mathop{\\mathrm{minimize}}_{x\\in\\mathbb{R}^d} \\|Ax-y\\|_2^2$$ \n",
    "\n",
    "However, least square problem suffers computational disadvantages, especially when matrix $A$ is ill-conditioned. To overcome the computational issues, we usually consider regularized least square problem:\n",
    "$$\\mathop{\\mathrm{minimize}}_{x\\in\\mathbb{R}^d} \\|Ax-y\\|_2^2 + \\lambda \\|x\\|_2^2,$$\n",
    "where $\\lambda>0$ is called regularization parameter.\n",
    "\n",
    "**In this assignment, you will be asked to write a solver for regularized least square problems.**\n",
    "\n",
    "**More about regularization:** This is also a crucial technique in machine learning community, which can be used to overcome the overfitting issue. Overfitting means that your machine learning model works well in training dataset, but it fails to generalize. In this assignment, you will also explore this phenomenon by looking at polynomial regression.\n",
    "\n",
    "**Methods for solving regularized least square problem:** Like standard least square problem, we have a nice explicit formula for the solution to regularized least square problem. We can also use GD/SGD to solve this problem.\n",
    "\n",
    "## Mathematical backgrounds:\n",
    "\n",
    "**Explicit formula:** The solution to regularized least square problem is $$ x = (A^\\top A + \\lambda I_d)^{-1}A^\\top y,$$\n",
    "where $I_d$ is identity matrix of shape $d\\times d$.\n",
    "\n",
    "**GD:** To implement GD, we should know the gradient of the objective function $f(x) = \\|Ax-y\\|_2^2 + \\lambda \\|x\\|_2^2$. The gradient is $\\nabla f = 2(A^\\top A + \\lambda I_d) x - 2(A^\\top y)$\n",
    "\n",
    "**SGD:** As we know, computing gradient using all samples is time consuming. Therefore, we use stochastic gradient descent to approximate the gradient. Suppose we want to use $b$ samples to approximate the gradient, i.e. batch size is $b$, the approximated gradient is \n",
    "$$ \\nabla f \\approx 2(A_b ^\\top A_b + \\lambda I_d) x - 2(A_b^\\top y_b), $$\n",
    "where $A_b$ is obtained by randomly selecting $b$ rows from $A$ (keep all columns), and $y_b$ contains the  corresponding values in $y$.\n",
    "\n",
    "## Code instructions:\n",
    "\n",
    "In this assignment, you will be asked to write a solver for regularized least square problem. The used mathematical formulas are given above. Feel free to contact me or ask your TA for help if the math is not clear.\n",
    "\n",
    "For the coding part, you should do the following:\n",
    "- You should write a class to construct the solver. Class name is given below. Your class should work for all regularized least square problem, i.e. all regularization parameter $\\lambda$, matrix $A$, and vector $y$.\n",
    "- The matrix $A$ must be a 2D numpy array and the vector must be a 1D numpy array. Your initialization should do the following:\n",
    "    \n",
    "    - If passing matrix is not a 2D numpy array, then you should print that the initialization fails because of the wrong shape of matrix.\n",
    "    - If passing vector is not a 1D numpy array, then you should print that it is not a 1D numpy array. Then, you should reshape it to a 1D nupy array.\n",
    "    - Denote the passing matrix and vector to be $A$ and $y$, respectively. You should also check that the number of rows in $A$ and the number of rows in $y$ are the same. Otherwise, the regularized least square problem is not well-defined mathematically. Check the number of rows, if they are not the same, then print that initialization fails because of the shape does not match.\n",
    "    \n",
    "- Write a method to solve (regularized) least square problem using `np.linalg.solve` command. You should include regularization parameter as an input. You should consider the following situations:\n",
    "    - The default regularization should be 1.\n",
    "    - If a negative parameter is given, then you should return error message saying that only nonnegative parameter can be used.\n",
    "    - If regularization parameter is 0, then you should return least norm solution (please check lecture notes for the least norm solution).\n",
    "    - If regularization parameter is None (`reg=None`), then you should return standard least square solution. \n",
    "    \n",
    "- Write a method to solve (regularized) least square problem using GD/SGD. **In this method, you are not allowed to use if-else statement.** In other words, you do not need to check the condition that GD or SGD is applied.\n",
    "\n",
    "- For GD/SGD method, the inputs are regularization parameter, max_iter, batch_size, and stepsize. The initial point of GD/SGD should be randomly selected. For each input:\n",
    "    - regularization parameter is a nonnegative number. If a negative number is given, then you should return error message saying that only nonnegative parameter can be used. When regularization parameter is 0, then you solve standard least square problem. We do not consider least norm solution here.\n",
    "    - max_iter is the total number of iterations. The default value is 100.\n",
    "    - batch_size should be a positive integer. The default value is 2.\n",
    "    - default stepsize is 0.01.\n",
    "\n",
    "    \n",
    "## Grading policy:\n",
    "\n",
    "1. Your code passes all test examples. (20 pts)\n",
    "2. You will also use your solver for applications. Details will be given below. (30 pts)\n",
    "3. Docstrings (for all classes and methods) and inline comments are well-written. They should be at the right position. Please pay special attention to docstrings. Since numpy array shapes involve here. You should clearly explain the desired shapes. Moreover, all inputs and possible values should be well-explained. (10 pts)\n",
    "4. Please restart the kernel and run all before you submit. (5 pts)"
   ]
  },
  {
   "cell_type": "code",
   "execution_count": 1,
   "metadata": {},
   "outputs": [],
   "source": [
    "\n",
    "import numpy as np\n",
    "\n",
    "class LinearSolver:\n",
    "    \n",
    "    def __init__(self, A, y):\n",
    "        #check requirments of A and y\n",
    "        if not isinstance(A, np.ndarray) or A.ndim != 2:\n",
    "            print(\"Initialization fails because the passing matrix is not a 2D numpy array\")\n",
    "            return\n",
    "\n",
    "        if not isinstance(y, np.ndarray) or y.ndim != 1:\n",
    "            print(\"Warning: vector is not a 1D numpy array. Reshaped to 1D numpy array automatically.\")\n",
    "            y = np.asarray(y).flatten()\n",
    "\n",
    "        if A.shape[0] != y.shape[0]:\n",
    "            print(\"Mismatched number of rows. Initialization fails.\")\n",
    "            return\n",
    "        self.A = A\n",
    "        self.y = y\n",
    "\n",
    "    def RLS(self, reg=1):\n",
    "        if reg is None:\n",
    "            #least square solution\n",
    "            return np.linalg.lstsq(self.A, self.y, rcond=None)[0]\n",
    "        elif reg < 0:\n",
    "            return \"Error: Regularization parameter should be nonnegative or None.\"\n",
    "        elif reg == 0:\n",
    "            #least norm solution\n",
    "            result = np.linalg.pinv(self.A).dot(self.y)\n",
    "            return np.round(result, 12)\n",
    "        else:\n",
    "            #regularized least square solution\n",
    "            I = np.eye(self.A.shape[1])\n",
    "            result = np.linalg.solve(self.A.T.dot(self.A) + reg * I, self.A.T.dot(self.y))\n",
    "            return np.round(result, 12)\n",
    "\n",
    "    def SGD(self, reg = 1, max_iter=100, b=2, step_size=0.01):\n",
    "        if reg < 0:\n",
    "            return \"Error: Regularization parameter should be nonnegative or None.\"\n",
    "        #randomizes parameters\n",
    "        w = np.random.rand(self.A.shape[1])\n",
    "        n_samples = self.A.shape[0]\n",
    "        \n",
    "        for _ in range(max_iter):\n",
    "            #creates random batches\n",
    "            indices = np.random.choice(n_samples, b, replace=False)\n",
    "            A_batch = self.A[indices]\n",
    "            y_batch = self.y[indices]\n",
    "\n",
    "            #gradient\n",
    "            gradient = -2 * A_batch.T.dot(y_batch - A_batch.dot(w)) / b + 2 * reg * w\n",
    "            \n",
    "            #updates parameters\n",
    "            w -= step_size * gradient\n",
    "        \n",
    "        return w\n"
   ]
  },
  {
   "cell_type": "markdown",
   "metadata": {},
   "source": [
    "#### Test example 1: Matrix shape is not accepted  (2 pts)"
   ]
  },
  {
   "cell_type": "code",
   "execution_count": 2,
   "metadata": {},
   "outputs": [
    {
     "name": "stdout",
     "output_type": "stream",
     "text": [
      "Initialization fails because the passing matrix is not a 2D numpy array\n"
     ]
    }
   ],
   "source": [
    "A = np.random.normal(loc=0, scale=1, size=(10,20,10))\n",
    "y = np.random.normal(loc=0, scale=1, size=(40,))\n",
    "reg = LinearSolver(A,y)"
   ]
  },
  {
   "cell_type": "markdown",
   "metadata": {},
   "source": [
    "#### Test example 2: Vector shape  (2 pts)"
   ]
  },
  {
   "cell_type": "code",
   "execution_count": 3,
   "metadata": {},
   "outputs": [
    {
     "name": "stdout",
     "output_type": "stream",
     "text": [
      "Warning: vector is not a 1D numpy array. Reshaped to 1D numpy array automatically.\n"
     ]
    }
   ],
   "source": [
    "A = np.random.normal(loc=0, scale=1, size=(10,20))\n",
    "y = np.random.normal(loc=0, scale=1, size=(10,1))\n",
    "reg = LinearSolver(A,y)"
   ]
  },
  {
   "cell_type": "markdown",
   "metadata": {},
   "source": [
    "#### Test example 3: Mismatched number of rows  (2 pts)"
   ]
  },
  {
   "cell_type": "code",
   "execution_count": 4,
   "metadata": {},
   "outputs": [
    {
     "name": "stdout",
     "output_type": "stream",
     "text": [
      "Mismatched number of rows. Initialization fails.\n"
     ]
    }
   ],
   "source": [
    "A = np.random.normal(loc=0, scale=1, size=(10,20))\n",
    "y = np.random.normal(loc=0, scale=1, size=(30,))\n",
    "reg = LinearSolver(A,y)"
   ]
  },
  {
   "cell_type": "markdown",
   "metadata": {},
   "source": [
    "#### Test example 4: Negative regularization parameter  (2 pts)"
   ]
  },
  {
   "cell_type": "code",
   "execution_count": 5,
   "metadata": {},
   "outputs": [
    {
     "data": {
      "text/plain": [
       "'Error: Regularization parameter should be nonnegative or None.'"
      ]
     },
     "execution_count": 5,
     "metadata": {},
     "output_type": "execute_result"
    }
   ],
   "source": [
    "A = np.random.normal(loc=0, scale=1, size=(10,20))\n",
    "y = np.random.normal(loc=0, scale=1, size=(10,))\n",
    "reg = LinearSolver(A,y)\n",
    "reg.RLS(reg=-1)"
   ]
  },
  {
   "cell_type": "markdown",
   "metadata": {},
   "source": [
    "#### Test example 5: Default regularization parameter  (2 pts)"
   ]
  },
  {
   "cell_type": "code",
   "execution_count": 6,
   "metadata": {},
   "outputs": [
    {
     "data": {
      "text/plain": [
       "array([0.5, 0. ])"
      ]
     },
     "execution_count": 6,
     "metadata": {},
     "output_type": "execute_result"
    }
   ],
   "source": [
    "A = np.array([[1,0],[0,0]])\n",
    "y = np.array([1,1])\n",
    "reg = LinearSolver(A,y)\n",
    "reg.RLS()"
   ]
  },
  {
   "cell_type": "markdown",
   "metadata": {},
   "source": [
    "#### Test example 6  (2 pts)"
   ]
  },
  {
   "cell_type": "code",
   "execution_count": 7,
   "metadata": {},
   "outputs": [
    {
     "data": {
      "text/plain": [
       "array([1., 1.])"
      ]
     },
     "execution_count": 7,
     "metadata": {},
     "output_type": "execute_result"
    }
   ],
   "source": [
    "A = np.array([[1,0],[0,1],[1,1]])\n",
    "y = np.array([1,1,2])\n",
    "reg = LinearSolver(A,y)\n",
    "reg.RLS(reg = None)"
   ]
  },
  {
   "cell_type": "markdown",
   "metadata": {},
   "source": [
    "#### Test example 7  (2 pts)"
   ]
  },
  {
   "cell_type": "code",
   "execution_count": 8,
   "metadata": {},
   "outputs": [
    {
     "data": {
      "text/plain": [
       "array([-0.,  0.,  1.])"
      ]
     },
     "execution_count": 8,
     "metadata": {},
     "output_type": "execute_result"
    }
   ],
   "source": [
    "A = np.array([[1,0,1],[0,0,1]])\n",
    "y = np.array([1,1])\n",
    "reg = LinearSolver(A,y)\n",
    "reg.RLS(reg = 0)"
   ]
  },
  {
   "cell_type": "markdown",
   "metadata": {},
   "source": [
    "#### Test example 8  (2 pts)"
   ]
  },
  {
   "cell_type": "code",
   "execution_count": 9,
   "metadata": {},
   "outputs": [
    {
     "data": {
      "text/plain": [
       "'Error: Regularization parameter should be nonnegative or None.'"
      ]
     },
     "execution_count": 9,
     "metadata": {},
     "output_type": "execute_result"
    }
   ],
   "source": [
    "A = np.random.normal(loc=0, scale=1, size=(10,20))\n",
    "y = np.random.normal(loc=0, scale=1, size=(10,))\n",
    "reg = LinearSolver(A,y)\n",
    "reg.SGD(reg=-1)"
   ]
  },
  {
   "cell_type": "markdown",
   "metadata": {},
   "source": [
    "#### Text example 9  (2 pts)\n",
    "\n",
    "You may have different outputs since SGD randomly select training samples."
   ]
  },
  {
   "cell_type": "code",
   "execution_count": 10,
   "metadata": {},
   "outputs": [
    {
     "data": {
      "text/plain": [
       "array([0.23593121, 0.08276598])"
      ]
     },
     "execution_count": 10,
     "metadata": {},
     "output_type": "execute_result"
    }
   ],
   "source": [
    "A = np.array([[1,0],[0,0],[0,0]])\n",
    "y = np.array([1,1,1])\n",
    "reg = LinearSolver(A,y)\n",
    "reg.SGD()"
   ]
  },
  {
   "cell_type": "markdown",
   "metadata": {},
   "source": [
    "#### Text example 10 (2 pts)"
   ]
  },
  {
   "cell_type": "code",
   "execution_count": 11,
   "metadata": {},
   "outputs": [
    {
     "data": {
      "text/plain": [
       "array([2.50000000e-01, 3.79677591e-11])"
      ]
     },
     "execution_count": 11,
     "metadata": {},
     "output_type": "execute_result"
    }
   ],
   "source": [
    "A = np.array([[1,0],[0,0],[0,0]])\n",
    "y = np.array([1,1,1])\n",
    "reg = LinearSolver(A,y)\n",
    "reg.SGD(max_iter=100, b=3, step_size=0.1)"
   ]
  },
  {
   "cell_type": "markdown",
   "metadata": {},
   "source": [
    "## Application 1 (10 pts)\n",
    "\n",
    "In this part, you will design an experiment to verify that when regularization parameter goes to 0, then the solution of regularized least square problem converges to least norm solution. **This is why I ask you to return least norm solution when passing regularization parameter is 0.**\n",
    "\n",
    "Instructions: \n",
    "1. you should select a sequence of regularization parameters (0 excluded) and then use your class to find solution to regularized least square problem for each parameter. You should think about how to select parameters to achieve your goal.\n",
    "\n",
    "2. Use your class to find least norm solution.\n",
    "\n",
    "3. Visualization. The x-axis should be the regularization parameters, and the y-axis should be the norm difference of regularized least square solution and least norm solution, i.e. $\\|x_{RLS} - x_{leastnorm}\\|$. \n",
    "\n",
    "**Grading policy:**\n",
    "1. The visualization should include informative labels, markers, titles, and etc.\n",
    "2. Your experiment should be able to verify the theory that the solution of regularized least square problem converges to least norm solution as regularization parameter goes to 0."
   ]
  },
  {
   "cell_type": "code",
   "execution_count": 12,
   "metadata": {},
   "outputs": [],
   "source": [
    "## run this cell to generate data\n",
    "m = 100\n",
    "d = 1000\n",
    "A = np.random.normal(loc=0, scale=1, size=(m,d))\n",
    "x_true = np.random.uniform(size=(d,))\n",
    "y = A@x_true"
   ]
  },
  {
   "cell_type": "code",
   "execution_count": 13,
   "metadata": {},
   "outputs": [
    {
     "data": {
      "image/png": "[encoded data removed]",
      "text/plain": [
       "<Figure size 1000x800 with 1 Axes>"
      ]
     },
     "metadata": {},
     "output_type": "display_data"
    }
   ],
   "source": [
    "import matplotlib.pyplot as plt\n",
    "\n",
    "\n",
    "solver = LinearSolver(A, y)\n",
    "reg_params = [0.1, 0.01, 0.001, 0.0001]\n",
    "\n",
    "#least norm solution\n",
    "ln_solution = solver.RLS(reg=0)\n",
    "\n",
    "norm_differences = []\n",
    "\n",
    "#regularized least squares solutions \n",
    "for r in reg_params:\n",
    "    rls_solution = solver.RLS(reg = r)\n",
    "    norm_diff = np.linalg.norm(rls_solution - ln_solution)\n",
    "    norm_differences.append(norm_diff)\n",
    "\n",
    "\n",
    "plt.figure(figsize=(10, 8))\n",
    "plt.plot(reg_params, norm_differences, marker='o', color = 'red')\n",
    "plt.xscale('log')\n",
    "plt.xlabel('Regularization Parameter (log scale)')\n",
    "plt.ylabel('Norm Difference of RLS Sol and LN Sol')\n",
    "plt.title('Convergence of Regularized Least Squares to Least Norm Solution')\n",
    "plt.grid(True)\n",
    "plt.xticks(reg_params)  # Ensure all points are marked on x-axis\n",
    "plt.show()"
   ]
  },
  {
   "cell_type": "markdown",
   "metadata": {},
   "source": [
    "## Application 2 (20 pts)\n",
    "\n",
    "Regularization is a crucial technique in machine learning. In this part, we will show that it can be used to improve machine learning model's performance. The following code generates training and test data."
   ]
  },
  {
   "cell_type": "code",
   "execution_count": 14,
   "metadata": {},
   "outputs": [],
   "source": [
    "m = 100         # number of training samples\n",
    "d = 100         # ambient dimension\n",
    "A = np.random.normal(0, 1, size=(m,d))             # training data matrix\n",
    "x_true = np.random.uniform(size=(d,))              # true coefficient vector\n",
    "y = A@x_true + np.random.normal(0,0.5, size=(m,))  # training labels\n",
    "\n",
    "m_test = 500    # number of test samples \n",
    "A_test = np.random.normal(0,1,size=(m_test,d))     # test data matrix\n",
    "y_test = A_test @ x_true                           # test labels"
   ]
  },
  {
   "cell_type": "markdown",
   "metadata": {},
   "source": [
    "Find least square solution without regularization using training data matrix and labels. You should return two quantities:\n",
    "1. norm of difference between x_true and x_LS, where x_LS is your least square solution\n",
    "2. mean square error on your prediction. Your prediction can be computed by `A_test @ x_LS`\n",
    "\n"
   ]
  },
  {
   "cell_type": "code",
   "execution_count": 15,
   "metadata": {},
   "outputs": [
    {
     "name": "stdout",
     "output_type": "stream",
     "text": [
      "Least Squares Solution (No Regularization):\n",
      "Norm of Difference: 7.682977018951909\n",
      "Mean Squared Error on Prediction: 62.39156737085378\n"
     ]
    }
   ],
   "source": [
    "solver = LinearSolver(A, y)\n",
    "\n",
    "\n",
    "x_LS = np.linalg.lstsq(A, y, rcond=None)[0]\n",
    "norm_diff_LS = np.linalg.norm(x_true - x_LS)\n",
    "pred_LS = A_test @ x_LS\n",
    "mse_LS = np.mean((pred_LS - y_test) ** 2)\n",
    "\n",
    "\n",
    "print(\"Least Squares Solution (No Regularization):\")\n",
    "print(\"Norm of Difference:\", norm_diff_LS)\n",
    "print(\"Mean Squared Error on Prediction:\", mse_LS)"
   ]
  },
  {
   "cell_type": "markdown",
   "metadata": {},
   "source": [
    "Find regularized least square solution using training data matrix and labels. You should return two quantities:\n",
    "1. norm of difference between x_true and x_RLS, where x_RLS is your regularized least square solution\n",
    "2. mean square error on your prediction. Your prediction can be computed by `A_test @ x_RLS`\n",
    "\n",
    "You should try 3 different regularization parameters and select the best one among your candidates. You should use RLS method in your class."
   ]
  },
  {
   "cell_type": "code",
   "execution_count": 16,
   "metadata": {},
   "outputs": [
    {
     "name": "stdout",
     "output_type": "stream",
     "text": [
      "Best Regularized Least Squares Solution:\n",
      "Regularization Parameter: 1\n",
      "Norm of Difference: 1.4073567615888036\n",
      "Mean Squared Error on Prediction: 2.1013451193978807\n"
     ]
    }
   ],
   "source": [
    "regularization_params = [0.1, 1, 10]  #parameters for regularization\n",
    "\n",
    "best_mse = float('inf')\n",
    "best_param = None\n",
    "best_x_RLS = None\n",
    "\n",
    "for r in regularization_params:\n",
    "    x_RLS = solver.RLS(reg = r)\n",
    "    norm_diff_RLS = np.linalg.norm(x_true - x_RLS)\n",
    "    pred_RLS = A_test @ x_RLS\n",
    "    mse_RLS = np.mean((pred_RLS - y_test) ** 2)\n",
    "    \n",
    "    if mse_RLS < best_mse:\n",
    "        best_mse = mse_RLS\n",
    "        best_param = r\n",
    "        best_x_RLS = x_RLS\n",
    "\n",
    "norm_diff_RLS_best = np.linalg.norm(x_true - best_x_RLS)\n",
    "\n",
    "print(\"Best Regularized Least Squares Solution:\")\n",
    "print(\"Regularization Parameter:\", best_param)\n",
    "print(\"Norm of Difference:\", norm_diff_RLS_best)\n",
    "print(\"Mean Squared Error on Prediction:\", best_mse)\n"
   ]
  },
  {
   "cell_type": "markdown",
   "metadata": {},
   "source": [
    "Repeat previous steps using SGD method in your class:\n",
    "\n",
    "Find least square solution without regularization using training data matrix and labels. You should return two quantities:\n",
    "1. norm of difference between x_true and x_LS, where x_LS is your least square solution\n",
    "2. mean square error on your prediction. Your prediction can be computed by `A_test @ x_LS`\n",
    "\n",
    "Find regularized least square solution using training data matrix and labels. You should return two quantities:\n",
    "1. norm of difference between x_true and x_RLS, where x_RLS is your regularized least square solution\n",
    "2. mean square error on your prediction. Your prediction can be computed by `A_test @ x_RLS`\n",
    "You can use the best regularization parameter you have found.\n",
    "\n",
    "Remark: You may need to try different max_iter, batch_size, and stepsize to achieve acceptable results. You do not need to show how you find them, just state your choices."
   ]
  },
  {
   "cell_type": "code",
   "execution_count": 17,
   "metadata": {},
   "outputs": [
    {
     "name": "stdout",
     "output_type": "stream",
     "text": [
      "Least Squares Solution using SGD (No Regularization):\n",
      "Norm of Difference: 1.7512172964901154\n",
      "Mean Squared Error on Prediction: 3.299694597550654\n",
      "\n",
      "Regularized Least Squares Solution using SGD:\n",
      "Regularization Parameter: 1\n",
      "Norm of Difference: 3.63981867297952\n",
      "Mean Squared Error on Prediction: 13.658233428661804\n"
     ]
    }
   ],
   "source": [
    "max_iter = 1000 \n",
    "batch_size = 10  \n",
    "step_size = 0.01\n",
    "\n",
    "x_LS_SGD = solver.SGD(max_iter=max_iter, b=batch_size, step_size=step_size, reg=0)\n",
    "norm_diff_LS_SGD = np.linalg.norm(x_true - x_LS_SGD)\n",
    "pred_LS_SGD = A_test @ x_LS_SGD\n",
    "mse_LS_SGD = np.mean((pred_LS_SGD - y_test) ** 2)\n",
    "\n",
    "x_RLS_SGD = solver.SGD(max_iter=max_iter, b=batch_size, step_size=step_size, reg=best_param)\n",
    "norm_diff_RLS_SGD = np.linalg.norm(x_true - x_RLS_SGD)\n",
    "pred_RLS_SGD = A_test @ x_RLS_SGD\n",
    "mse_RLS_SGD = np.mean((pred_RLS_SGD - y_test) ** 2)\n",
    "\n",
    "\n",
    "print(\"Least Squares Solution using SGD (No Regularization):\")\n",
    "print(\"Norm of Difference:\", norm_diff_LS_SGD)\n",
    "print(\"Mean Squared Error on Prediction:\", mse_LS_SGD)\n",
    "\n",
    "print(\"\\nRegularized Least Squares Solution using SGD:\")\n",
    "print(\"Regularization Parameter:\", best_param)\n",
    "print(\"Norm of Difference:\", norm_diff_RLS_SGD)\n",
    "print(\"Mean Squared Error on Prediction:\", mse_RLS_SGD)"
   ]
  },
  {
   "cell_type": "markdown",
   "metadata": {},
   "source": [
    "#### Does your experiment support that regularization is helpful in improving model's performance?"
   ]
  },
  {
   "cell_type": "markdown",
   "metadata": {},
   "source": [
    "Regularization significantly improved the Regularized LS solution using the explicit formula, while not having a significant impact on the SGD method"
   ]
  }
 ],
 "metadata": {
  "kernelspec": {
   "display_name": "Python 3 (ipykernel)",
   "language": "python",
   "name": "python3"
  },
  "language_info": {
   "codemirror_mode": {
    "name": "ipython",
    "version": 3
   },
   "file_extension": ".py",
   "mimetype": "text/x-python",
   "name": "python",
   "nbconvert_exporter": "python",
   "pygments_lexer": "ipython3",
   "version": "3.11.4"
  }
 },
 "nbformat": 4,
 "nbformat_minor": 4
}
