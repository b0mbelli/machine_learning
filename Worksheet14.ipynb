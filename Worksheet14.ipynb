{
 "cells": [
  {
   "cell_type": "markdown",
   "metadata": {},
   "source": [
    "# Worksheet: PyTorch\n",
    "\n",
    "Your TA will introduce PyTorch today. The worksheet is about writting a class to define neural network. No need to train this network.\n",
    "\n",
    "#### The grading is based on the completion."
   ]
  },
  {
   "cell_type": "code",
   "execution_count": 1,
   "metadata": {},
   "outputs": [
    {
     "name": "stdout",
     "output_type": "stream",
     "text": [
      "SimpleNeuralNet(\n",
      "  (fc1): Linear(in_features=10, out_features=20, bias=True)\n",
      "  (fc2): Linear(in_features=20, out_features=1, bias=True)\n",
      ")\n",
      "Output shape: torch.Size([5, 1])\n"
     ]
    }
   ],
   "source": [
    "import torch\n",
    "import torch.nn as nn\n",
    "import torch.nn.functional as F\n",
    "\n",
    "class SimpleNeuralNet(nn.Module):\n",
    "    \"\"\"\n",
    "    A simple neural network with one hidden layer.\n",
    "    \n",
    "    Attributes:\n",
    "        input_size (int): Number of input features.\n",
    "        hidden_size (int): Number of neurons in the hidden layer.\n",
    "        output_size (int): Number of output features.\n",
    "    \"\"\"\n",
    "    def __init__(self, input_size, hidden_size, output_size):\n",
    "        \"\"\"\n",
    "        Initializes the SimpleNeuralNet with the specified layer sizes.\n",
    "        \n",
    "        Args:\n",
    "            input_size (int): Number of input features.\n",
    "            hidden_size (int): Number of neurons in the hidden layer.\n",
    "            output_size (int): Number of output features.\n",
    "        \"\"\"\n",
    "        super(SimpleNeuralNet, self).__init__()\n",
    "        self.fc1 = nn.Linear(input_size, hidden_size)  # First fully connected layer\n",
    "        self.fc2 = nn.Linear(hidden_size, output_size)  # Second fully connected layer\n",
    "\n",
    "    def forward(self, x):\n",
    "        \"\"\"\n",
    "        Defines the forward pass of the neural network.\n",
    "        \n",
    "        Args:\n",
    "            x (torch.Tensor): Input tensor.\n",
    "        \n",
    "        Returns:\n",
    "            torch.Tensor: Output tensor.\n",
    "        \"\"\"\n",
    "        x = F.relu(self.fc1(x))  # Apply ReLU activation to the first layer's output\n",
    "        x = self.fc2(x)         # Compute the output\n",
    "        return x\n",
    "\n",
    "# Define the network\n",
    "input_size = 10   # Number of input features\n",
    "hidden_size = 20  # Number of neurons in the hidden layer\n",
    "output_size = 1   # Number of output features\n",
    "model = SimpleNeuralNet(input_size, hidden_size, output_size)\n",
    "\n",
    "# Print the model architecture\n",
    "print(model)\n",
    "\n",
    "# Example forward pass\n",
    "x = torch.randn(5, input_size)  # Batch of 5 samples with 10 features each\n",
    "output = model(x)\n",
    "print(\"Output shape:\", output.shape) "
   ]
  },
  {
   "cell_type": "code",
   "execution_count": null,
   "metadata": {},
   "outputs": [],
   "source": []
  }
 ],
 "metadata": {
  "kernelspec": {
   "display_name": "Python 3 (ipykernel)",
   "language": "python",
   "name": "python3"
  },
  "language_info": {
   "codemirror_mode": {
    "name": "ipython",
    "version": 3
   },
   "file_extension": ".py",
   "mimetype": "text/x-python",
   "name": "python",
   "nbconvert_exporter": "python",
   "pygments_lexer": "ipython3",
   "version": "3.11.4"
  }
 },
 "nbformat": 4,
 "nbformat_minor": 4
}
