{
 "cells": [
  {
   "cell_type": "markdown",
   "metadata": {},
   "source": [
    "# Worksheet for optimization: Find good stepsize\n",
    "\n",
    "\n",
    "We have explained that stepsize is important for GD algorithm. Our goal of this exercise is to find a good stepsize.\n",
    "\n",
    "The optimization problem is\n",
    "$$ \\mathop{\\mathbf{minimize}}_{x,y} \\quad f(x,y) = \\exp(x+3y-0.1) + \\exp(x-3y-0.1) + \\exp(-x-0.1) $$\n",
    "\n",
    "Please compute the gradient yourself. Ask your TA for help if the computation is hard.\n",
    "\n",
    "**Additional information: Setting the gradient to be zero gives two equations. Solving the equations gives you the desired point $(x^*,y^*)=(\\frac{1}{2}\\log(\\frac{1}{2}), 0)$ which minimizes the objective function. You are allowed to use this point to help you design a strategy to compare different stepsizes.**\n",
    "\n",
    "\n",
    "Implement GD algorithm to find the minimizer and compare 4 stepsizes [0.001, 0.005, 0.01, 0.05]. In this worksheet, you should report 1) the optimal stepsize (state the reason) 2) figure contains 4 line plots, the y-axis should be the difference between $f(x_t,y_t) - f(x^*,y^*)$ for $t$-th iteration and the x-axis should be the iteration. \n",
    "\n",
    "**Grading policy:**\n",
    "\n",
    "1. You should write a function to reduce the repetition in your code (The repetition comes for the same codes for different stepsizes). You have the freedom to choose function inputs and outputs. Function docstrings and inline comments are required.\n",
    "\n",
    "2. Visualization is correct. Moreover, the informative legend, title, labels are required.\n",
    "\n",
    "3. State the optimal stepsize for this optimization problem and the reason. Visualization should be helpful.\n",
    "\n",
    "4. Please restart the kernel and run all before you submit. This will be monitored.\n",
    "\n",
    "Suggested initial value and number of iterations: initial value (-2,1) and 200 iterations. (Feel free to try different initial value and number of iterations).\n"
   ]
  },
  {
   "cell_type": "markdown",
   "metadata": {},
   "source": [
    "## Your name:"
   ]
  },
  {
   "cell_type": "code",
   "execution_count": null,
   "metadata": {},
   "outputs": [],
   "source": []
  }
 ],
 "metadata": {
  "kernelspec": {
   "display_name": "Python 3",
   "language": "python",
   "name": "python3"
  },
  "language_info": {
   "codemirror_mode": {
    "name": "ipython",
    "version": 3
   },
   "file_extension": ".py",
   "mimetype": "text/x-python",
   "name": "python",
   "nbconvert_exporter": "python",
   "pygments_lexer": "ipython3",
   "version": "3.7.6"
  }
 },
 "nbformat": 4,
 "nbformat_minor": 4
}
