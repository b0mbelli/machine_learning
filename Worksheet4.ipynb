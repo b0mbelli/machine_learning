{
 "cells": [
  {
   "cell_type": "markdown",
   "metadata": {},
   "source": [
    "# Worksheet: Covid data visualization\n",
    "\n",
    "\n",
    "The goal of this part is to visualize given covid dataset using plotly. Here are the instructions:\n",
    "\n",
    "- In the dataset, there are 243 countries. To save running time, you should select a subset of countries. \n",
    "\n",
    "- Also, you are also allowed to select a specific time range since the dataset contains a long time range. Please make sure that your selection is not empty, otherwise your plot is empty.\n",
    "\n",
    "- No need to write a function for this exercise. \n",
    "\n",
    "- To receive full credits, your code/result should meet the following requirements:\n",
    "    \n",
    "     - You should select at least 2 countries to produce your plot.\n",
    "     - You should create animation for this part. Scatter plot and bar plot are accepted. You can also show histogram or line plot.\n",
    "     - Write a short paragraph to describe what you did for data processing (e.g which countries you select or time range you select).\n"
   ]
  },
  {
   "cell_type": "code",
   "execution_count": null,
   "metadata": {},
   "outputs": [],
   "source": [
    "# Your solution goes here\n",
    "url = 'https://raw.githubusercontent.com/liaochunyang/PIC16/main/PIC16B/01_Visualization/global-data.csv'\n"
   ]
  }
 ],
 "metadata": {
  "kernelspec": {
   "display_name": "Python 3",
   "language": "python",
   "name": "python3"
  },
  "language_info": {
   "codemirror_mode": {
    "name": "ipython",
    "version": 3
   },
   "file_extension": ".py",
   "mimetype": "text/x-python",
   "name": "python",
   "nbconvert_exporter": "python",
   "pygments_lexer": "ipython3",
   "version": "3.7.6"
  },
  "widgets": {
   "application/vnd.jupyter.widget-state+json": {
    "state": {},
    "version_major": 2,
    "version_minor": 0
   }
  }
 },
 "nbformat": 4,
 "nbformat_minor": 5
}
