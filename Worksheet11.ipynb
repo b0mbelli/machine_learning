{
 "cells": [
  {
   "cell_type": "markdown",
   "metadata": {},
   "source": [
    "# Worksheet: The Friendship Paradox\n",
    "\n",
    "Did you know that your friends are more popular than you? \n",
    "\n",
    "Well, that may or may not be true -- but it is true *on average*. Here's what the so-called \"Friendship Paradox\" states: \n",
    "\n",
    "1. First, ask Zenith how many friends she has, and write that down. \n",
    "2. Then, ask each of Zenith's friends how many friends *they* have. Take the average, and write the second number down. \n",
    "3. Repeat this process for every person in a social network. \n",
    "4. The average of the first column (the number of friends of the first person) will always be less than the average of the second column (the average number of friends of each of the first person's friends). \n",
    "\n",
    "In network language, statistically speaking, \n",
    "\n",
    "> The average degree of a node is less than the average degree of one of its neighbors. \n",
    "\n",
    "The goal of this worksheet is to use NetworkX tools to check this:\n",
    "\n",
    "You should write a function called `friendship_paradox` which takes any graph as input. This function returns `average number of friends of nodes` and `average number of friends of friends of nodes`. You can use print to show those two numbers (not just two numbers, words + numbers is better). Then, run the test example given below.\n",
    "\n",
    "**Grading policy**\n",
    "1. Your function should have docstrings and incline comments.\n",
    "2. Your function pass the test example."
   ]
  },
  {
   "cell_type": "code",
   "execution_count": 1,
   "metadata": {},
   "outputs": [],
   "source": [
    "import networkx as nx"
   ]
  },
  {
   "cell_type": "code",
   "execution_count": 2,
   "metadata": {},
   "outputs": [],
   "source": [
    "def friendship_paradox(G):\n",
    "    \"\"\"\n",
    "    This function calculates and prints the average number of friends of nodes and the average number of friends of friends of nodes.\n",
    "    \n",
    "    Parameters:\n",
    "    G (networkx.Graph): A graph object representing the social network.\n",
    "    \n",
    "    Returns:\n",
    "    None: It prints the two averages.\n",
    "    \"\"\"\n",
    "    \n",
    "    # Average degree of nodes (average number of friends)\n",
    "    avg_degree_nodes = sum(dict(G.degree()).values()) / len(G)\n",
    "    \n",
    "    # Average degree of the friends of each node (average number of friends of friends)\n",
    "    avg_degree_friends = 0\n",
    "    for node in G.nodes():\n",
    "        # Get the neighbors (friends) of the current node\n",
    "        neighbors = list(G.neighbors(node))\n",
    "        \n",
    "        # Calculate the total degree of all neighbors\n",
    "        total_degree_of_neighbors = sum(G.degree(n) for n in neighbors)\n",
    "        \n",
    "        # Add to the total of the average degree of friends\n",
    "        avg_degree_friends += total_degree_of_neighbors / len(neighbors) if neighbors else 0\n",
    "    \n",
    "    avg_degree_friends /= len(G)\n",
    "    \n",
    "    # Print both averages\n",
    "    print(f\"Average number of friends of nodes: {avg_degree_nodes:.2f}\")\n",
    "    print(f\"Average number of friends of friends: {avg_degree_friends:.2f}\")"
   ]
  },
  {
   "cell_type": "code",
   "execution_count": 3,
   "metadata": {},
   "outputs": [
    {
     "name": "stdout",
     "output_type": "stream",
     "text": [
      "Average number of friends of nodes: 4.59\n",
      "Average number of friends of friends: 9.61\n"
     ]
    }
   ],
   "source": [
    "# Test example:\n",
    "G = nx.karate_club_graph()\n",
    "friendship_paradox(G)"
   ]
  },
  {
   "cell_type": "code",
   "execution_count": null,
   "metadata": {},
   "outputs": [],
   "source": []
  }
 ],
 "metadata": {
  "kernelspec": {
   "display_name": "Python 3 (ipykernel)",
   "language": "python",
   "name": "python3"
  },
  "language_info": {
   "codemirror_mode": {
    "name": "ipython",
    "version": 3
   },
   "file_extension": ".py",
   "mimetype": "text/x-python",
   "name": "python",
   "nbconvert_exporter": "python",
   "pygments_lexer": "ipython3",
   "version": "3.11.4"
  }
 },
 "nbformat": 4,
 "nbformat_minor": 4
}
