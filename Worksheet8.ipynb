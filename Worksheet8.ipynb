{
 "cells": [
  {
   "cell_type": "markdown",
   "metadata": {},
   "source": [
    "# Worksheet \n",
    "\n",
    "Recall that we write our own minmax scalar during the lecture. In this worksheet, you will write your own standard scalar. \n",
    "\n",
    "Standard scalar assumes that each feature follows a distribution, then we want to minus the mean and divide by standard deviation for each feature. If all features follow normal distribution, then each feature will be standard normal after transformation.\n",
    "\n",
    "You should write a class called `std_scalar()` to do this and this class contains 3 methods initialization, fit_transform, and transform. Your class should work as `sklearn.preprocessing.StandardScaler`.\n",
    "\n",
    "You should add docstring and comments for your class. \n",
    "\n",
    "**Grading policy:**\n",
    "\n",
    "1. Your code passes the given test example.\n",
    "2. Class docstring, function docstring, and inline comments should be well-written and informative."
   ]
  },
  {
   "cell_type": "code",
   "execution_count": 1,
   "metadata": {},
   "outputs": [],
   "source": [
    "class std_scalar:\n",
    "    \"\"\"\n",
    "    A class to perform standard scaling of features by removing the mean and scaling to unit variance.\n",
    "    \n",
    "    Methods\n",
    "    -------\n",
    "    fit_transform(data):\n",
    "        Fits the scaler on the data and then transforms the data by scaling it.\n",
    "        \n",
    "    transform(data):\n",
    "        Transforms the data using the previously computed mean and standard deviation.\n",
    "    \"\"\"\n",
    "    \n",
    "    def __init__(self):\n",
    "        \"\"\"\n",
    "        Initializes the std_scalar object. \n",
    "        Attributes for storing the mean and standard deviation of the data will be defined later.\n",
    "        \"\"\"\n",
    "        self.mean_ = None\n",
    "        self.std_ = None\n",
    "    \n",
    "    def fit_transform(self, data):\n",
    "        \"\"\"\n",
    "        Fits the scaler to the input data and transforms it by subtracting the mean and dividing by the standard deviation.\n",
    "        \n",
    "        Parameters\n",
    "        ----------\n",
    "        data : numpy array of shape (n_samples, n_features)\n",
    "            The data to be scaled.\n",
    "            \n",
    "        Returns\n",
    "        -------\n",
    "        data_scaled : numpy array of shape (n_samples, n_features)\n",
    "            The scaled version of the input data.\n",
    "        \"\"\"\n",
    "        # Compute mean and standard deviation for each feature (column)\n",
    "        self.mean_ = np.mean(data, axis=0)\n",
    "        self.std_ = np.std(data, axis=0, ddof=0)\n",
    "        \n",
    "        # Transform the data using the computed mean and std deviation\n",
    "        data_scaled = (data - self.mean_) / self.std_\n",
    "        return data_scaled\n",
    "    \n",
    "    def transform(self, data):\n",
    "        \"\"\"\n",
    "        Transforms the input data using the previously computed mean and standard deviation.\n",
    "        \n",
    "        Parameters\n",
    "        ----------\n",
    "        data : numpy array of shape (n_samples, n_features)\n",
    "            The data to be scaled.\n",
    "            \n",
    "        Returns\n",
    "        -------\n",
    "        data_scaled : numpy array of shape (n_samples, n_features)\n",
    "            The scaled version of the input data.\n",
    "        \"\"\"\n",
    "        # Ensure that the scaler has already been fitted\n",
    "        if self.mean_ is None or self.std_ is None:\n",
    "            raise ValueError(\"Scaler has not been fitted. Call 'fit_transform' first.\")\n",
    "        \n",
    "        # Transform the data using the previously computed mean and std deviation\n",
    "        data_scaled = (data - self.mean_) / self.std_\n",
    "        return data_scaled"
   ]
  },
  {
   "cell_type": "code",
   "execution_count": 2,
   "metadata": {},
   "outputs": [
    {
     "name": "stdout",
     "output_type": "stream",
     "text": [
      "True\n",
      "True\n"
     ]
    }
   ],
   "source": [
    "# Test that your class is correct\n",
    "import numpy as np\n",
    "from sklearn.preprocessing import StandardScaler\n",
    "\n",
    "data1 = np.arange(12).reshape(4,3)\n",
    "data2 = np.arange(15).reshape(5,3)\n",
    "\n",
    "## StandardScalar:\n",
    "scalar = StandardScaler()\n",
    "data1_sd =  scalar.fit_transform(data1)\n",
    "data2_sd = scalar.transform(data2)\n",
    "\n",
    "## Your own class:\n",
    "std_scalar = std_scalar()\n",
    "data1_sd_own =  std_scalar.fit_transform(data1)\n",
    "data2_sd_own = std_scalar.transform(data2)\n",
    "\n",
    "print(np.allclose(data1_sd, data1_sd_own))   # Should be True\n",
    "print(np.allclose(data2_sd, data2_sd_own))   # Should be True"
   ]
  },
  {
   "cell_type": "code",
   "execution_count": null,
   "metadata": {},
   "outputs": [],
   "source": []
  }
 ],
 "metadata": {
  "kernelspec": {
   "display_name": "Python 3 (ipykernel)",
   "language": "python",
   "name": "python3"
  },
  "language_info": {
   "codemirror_mode": {
    "name": "ipython",
    "version": 3
   },
   "file_extension": ".py",
   "mimetype": "text/x-python",
   "name": "python",
   "nbconvert_exporter": "python",
   "pygments_lexer": "ipython3",
   "version": "3.11.4"
  }
 },
 "nbformat": 4,
 "nbformat_minor": 4
}
