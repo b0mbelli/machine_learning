{
 "cells": [
  {
   "cell_type": "markdown",
   "metadata": {},
   "source": [
    "# Worksheet: SVD for recommendation system\n",
    "\n",
    "Please read section 2.3 in this [notes](https://math.ucsd.edu/sites/math.ucsd.edu/files/undergrad/honors-program/honors-theses/2017-2018/Zecheng_Kuang_Honors_Thesis.pdf), then transfer it to python code. \n",
    "\n",
    "You should write a class to do this. This class should include initialization, fit method that computes SVD based on given data matrix, and recommendation to new users (notice that there are two recommendation methods in the notes, so you should write two methods in your class).\n",
    "\n",
    "In the notes, one new user is given, but your recommendation method should work for multiple new users (matrix multiplication helps).\n",
    "\n",
    "After writting the codes, testing the correctness using the data given in the notes. You should design the test examples. The instructions are given below."
   ]
  },
  {
   "cell_type": "code",
   "execution_count": 1,
   "metadata": {},
   "outputs": [],
   "source": [
    "import numpy as np\n",
    "from numpy.linalg import svd\n",
    "from scipy.spatial.distance import cosine\n",
    "\n",
    "class RecommendationSystem:\n",
    "    def __init__(self, ratings_matrix):\n",
    "        # Perform Singular Value Decomposition\n",
    "        self.ratings_matrix = ratings_matrix\n",
    "        self.U, self.S, self.Vt = svd(ratings_matrix, full_matrices=False)\n",
    "        \n",
    "        # Reduce dimensions if necessary (only retain the top k singular values)\n",
    "        self.S_diag = np.diag(self.S)\n",
    "    \n",
    "    def map_users_to_genre_space(self):\n",
    "        # Map users to \"genre space\" using the U and S matrices\n",
    "        user_genre_matrix = self.U @ self.S_diag\n",
    "        return user_genre_matrix\n",
    "    \n",
    "    def map_new_user_to_genre_space(self, new_user_ratings):\n",
    "        # Map a new user's ratings to \"genre space\"\n",
    "        user_genre_representation = new_user_ratings @ self.Vt.T\n",
    "        return user_genre_representation\n",
    "\n",
    "    def cosine_similarity(self, vec1, vec2):\n",
    "        # Calculate cosine similarity\n",
    "        return 1 - cosine(vec1, vec2)\n",
    "\n",
    "    def recommend_based_on_similar_users(self, new_user_ratings, top_n=1):\n",
    "        # Map users and the new user to genre space\n",
    "        user_genre_matrix = self.map_users_to_genre_space()\n",
    "        new_user_genre_vector = self.map_new_user_to_genre_space(new_user_ratings)\n",
    "        \n",
    "        # Calculate similarity between the new user and all existing users\n",
    "        similarities = [self.cosine_similarity(new_user_genre_vector, user_vec)\n",
    "                        for user_vec in user_genre_matrix]\n",
    "        \n",
    "        # Find the most similar users\n",
    "        similar_user_indices = np.argsort(similarities)[-top_n:]\n",
    "        \n",
    "        # Aggregate recommendations from similar users\n",
    "        recommendations = np.zeros(self.ratings_matrix.shape[1])\n",
    "        for idx in similar_user_indices:\n",
    "            recommendations += self.ratings_matrix[idx]\n",
    "        \n",
    "        return recommendations"
   ]
  },
  {
   "cell_type": "code",
   "execution_count": 2,
   "metadata": {},
   "outputs": [
    {
     "name": "stdout",
     "output_type": "stream",
     "text": [
      "Jane's genre space representation: [-2.31  0.    0.   -1.63  2.83]\n"
     ]
    }
   ],
   "source": [
    "# test example 1: \n",
    "# representing Jane's rating as a vector u = [0, 0, 4, 0, 0], then mapping her ratings into the “genre space”\n",
    "# User ratings matrix\n",
    "ratings_matrix = np.array([\n",
    "    [1, 1, 1, 0, 0],\n",
    "    [3, 3, 3, 0, 0],\n",
    "    [4, 4, 4, 0, 0],\n",
    "    [5, 5, 5, 0, 0],\n",
    "    [0, 0, 0, 4, 4],\n",
    "    [0, 0, 0, 5, 5],\n",
    "    [0, 0, 0, 2, 2]\n",
    "])\n",
    "\n",
    "# Initialize recommendation system with ratings\n",
    "rec_sys = RecommendationSystem(ratings_matrix)\n",
    "\n",
    "# New user (Jane) only rated Star Wars with a 4\n",
    "new_user_ratings = np.array([0, 0, 4, 0, 0])\n",
    "jane_genre_vector = rec_sys.map_new_user_to_genre_space(new_user_ratings)\n",
    "print(\"Jane's genre space representation:\", np.round(jane_genre_vector, 2))\n"
   ]
  },
  {
   "cell_type": "code",
   "execution_count": 3,
   "metadata": {},
   "outputs": [
    {
     "name": "stdout",
     "output_type": "stream",
     "text": [
      "Recommendations for Jane based on similar users: [4. 4. 4. 0. 0.]\n"
     ]
    }
   ],
   "source": [
    "# test example 2: find users who are similar to Jane and \n",
    "# provide recommendations to Jane according to the preferences of those similar users.\n",
    "recommendations = rec_sys.recommend_based_on_similar_users(new_user_ratings, top_n=1)\n",
    "print(\"Recommendations for Jane based on similar users:\", np.round(recommendations, 2))\n"
   ]
  }
 ],
 "metadata": {
  "kernelspec": {
   "display_name": "Python 3 (ipykernel)",
   "language": "python",
   "name": "python3"
  },
  "language_info": {
   "codemirror_mode": {
    "name": "ipython",
    "version": 3
   },
   "file_extension": ".py",
   "mimetype": "text/x-python",
   "name": "python",
   "nbconvert_exporter": "python",
   "pygments_lexer": "ipython3",
   "version": "3.11.4"
  }
 },
 "nbformat": 4,
 "nbformat_minor": 4
}
